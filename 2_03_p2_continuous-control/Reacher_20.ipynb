{
 "cells": [
  {
   "cell_type": "markdown",
   "metadata": {},
   "source": [
    "# Continuous Control\n",
    "\n",
    "---\n",
    "\n",
    "You are welcome to use this coding environment to train your agent for the project.  Follow the instructions below to get started!\n",
    "\n",
    "### 1. Start the Environment\n"
   ]
  },
  {
   "cell_type": "code",
   "execution_count": 1,
   "metadata": {},
   "outputs": [],
   "source": [
    "from unityagents import UnityEnvironment\n",
    "import numpy as np"
   ]
  },
  {
   "cell_type": "code",
   "execution_count": 2,
   "metadata": {},
   "outputs": [
    {
     "name": "stderr",
     "output_type": "stream",
     "text": [
      "INFO:unityagents:\n",
      "'Academy' started successfully!\n",
      "Unity Academy name: Academy\n",
      "        Number of Brains: 1\n",
      "        Number of External Brains : 1\n",
      "        Lesson number : 0\n",
      "        Reset Parameters :\n",
      "\t\tgoal_speed -> 1.0\n",
      "\t\tgoal_size -> 5.0\n",
      "Unity brain name: ReacherBrain\n",
      "        Number of Visual Observations (per agent): 0\n",
      "        Vector Observation space type: continuous\n",
      "        Vector Observation space size (per agent): 33\n",
      "        Number of stacked Vector Observation: 1\n",
      "        Vector Action space type: continuous\n",
      "        Vector Action space size (per agent): 4\n",
      "        Vector Action descriptions: , , , \n"
     ]
    }
   ],
   "source": [
    "env = UnityEnvironment(file_name='Reacher_20_Windows_x86_64/Reacher.exe')"
   ]
  },
  {
   "cell_type": "markdown",
   "metadata": {},
   "source": [
    "Environments contain **_brains_** which are responsible for deciding the actions of their associated agents. Here we check for the first brain available, and set it as the default brain we will be controlling from Python."
   ]
  },
  {
   "cell_type": "code",
   "execution_count": 3,
   "metadata": {},
   "outputs": [],
   "source": [
    "# get the default brain\n",
    "brain_name = env.brain_names[0]\n",
    "brain = env.brains[brain_name]"
   ]
  },
  {
   "cell_type": "markdown",
   "metadata": {},
   "source": [
    "### 2. Examine the State and Action Spaces\n",
    "\n",
    "Run the code cell below to print some information about the environment."
   ]
  },
  {
   "cell_type": "code",
   "execution_count": 4,
   "metadata": {},
   "outputs": [
    {
     "name": "stdout",
     "output_type": "stream",
     "text": [
      "Number of agents: 20\n",
      "Size of each action: 4\n",
      "There are 20 agents. Each observes a state with length: 33\n",
      "The state for the first agent looks like: \n",
      " [ 0.00000000e+00 -4.00000000e+00  0.00000000e+00  1.00000000e+00\n",
      " -0.00000000e+00 -0.00000000e+00 -4.37113883e-08  0.00000000e+00\n",
      "  0.00000000e+00  0.00000000e+00  0.00000000e+00  0.00000000e+00\n",
      "  0.00000000e+00  0.00000000e+00 -1.00000000e+01  0.00000000e+00\n",
      "  1.00000000e+00 -0.00000000e+00 -0.00000000e+00 -4.37113883e-08\n",
      "  0.00000000e+00  0.00000000e+00  0.00000000e+00  0.00000000e+00\n",
      "  0.00000000e+00  0.00000000e+00  5.75471878e+00 -1.00000000e+00\n",
      "  5.55726624e+00  0.00000000e+00  1.00000000e+00  0.00000000e+00\n",
      " -1.68164849e-01]\n"
     ]
    }
   ],
   "source": [
    "# reset the environment\n",
    "env_info = env.reset(train_mode=True)[brain_name]\n",
    "\n",
    "# number of agents\n",
    "num_agents = len(env_info.agents)\n",
    "print('Number of agents:', num_agents)\n",
    "\n",
    "# size of each action\n",
    "action_size = brain.vector_action_space_size\n",
    "print('Size of each action:', action_size)\n",
    "\n",
    "# examine the state space \n",
    "states = env_info.vector_observations\n",
    "state_size = states.shape[1]\n",
    "print('There are {} agents. Each observes a state with length: {}'.format(states.shape[0], state_size))\n",
    "print('The state for the first agent looks like: \\n', states[0])"
   ]
  },
  {
   "cell_type": "markdown",
   "metadata": {},
   "source": [
    "### 3. Take Random Actions in the Environment\n",
    "\n",
    "In the next code cell, you will learn how to use the Python API to control the agent and receive feedback from the environment.\n",
    "\n",
    "Note that **in this coding environment, you will not be able to watch the agents while they are training**, and you should set `train_mode=True` to restart the environment."
   ]
  },
  {
   "cell_type": "code",
   "execution_count": 5,
   "metadata": {},
   "outputs": [
    {
     "name": "stdout",
     "output_type": "stream",
     "text": [
      "Total score (averaged over agents) this episode: 0.19499999564141035\n"
     ]
    }
   ],
   "source": [
    "env_info = env.reset(train_mode=True)[brain_name]      # reset the environment    \n",
    "states = env_info.vector_observations                  # get the current state (for each agent)\n",
    "scores = np.zeros(num_agents)                          # initialize the score (for each agent)\n",
    "while True:\n",
    "    actions = np.random.randn(num_agents, action_size) # select an action (for each agent)\n",
    "    actions = np.clip(actions, -1, 1)                  # all actions between -1 and 1\n",
    "    env_info = env.step(actions)[brain_name]           # send all actions to tne environment\n",
    "    next_states = env_info.vector_observations         # get next state (for each agent)\n",
    "    rewards = env_info.rewards                         # get reward (for each agent)\n",
    "    dones = env_info.local_done                        # see if episode finished\n",
    "    scores += env_info.rewards                         # update the score (for each agent)\n",
    "    states = next_states                               # roll over states to next time step\n",
    "    if np.any(dones):                                  # exit loop if episode finished\n",
    "        break\n",
    "print('Total score (averaged over agents) this episode: {}'.format(np.mean(scores)))"
   ]
  },
  {
   "cell_type": "markdown",
   "metadata": {},
   "source": [
    "When finished, you can close the environment."
   ]
  },
  {
   "cell_type": "code",
   "execution_count": 6,
   "metadata": {},
   "outputs": [],
   "source": [
    "#env.close()"
   ]
  },
  {
   "cell_type": "markdown",
   "metadata": {},
   "source": [
    "### 4. Training of agent\n",
    "\n",
    "The following cells are used to train the agent for the single agent environment. Addionalty the file ddpg_agent.py and model.py are used. You may find them by clicking on the jupyter symbol in the top left corner."
   ]
  },
  {
   "cell_type": "code",
   "execution_count": 7,
   "metadata": {},
   "outputs": [
    {
     "name": "stdout",
     "output_type": "stream",
     "text": [
      "DDPG Agent hyperparameters:\n",
      "\tbatch size: \t\t     128\n",
      "\tbuffer size: \t\t  100000\n",
      "\tdiscount / gamma: \t   0.990\n",
      "\tactor learning rate: \t   0.001\n",
      "\tcritic learning rate: \t   0.001\n",
      "\tsoft update / tau: \t   0.001\n",
      "\tnoise decay rate: \t   0.999\n",
      "\n",
      "Actor network built: ModuleList(\n",
      "  (0): Linear(in_features=33, out_features=256, bias=True)\n",
      "  (1): Linear(in_features=256, out_features=64, bias=True)\n",
      "  (2): Linear(in_features=64, out_features=4, bias=True)\n",
      ")\n",
      "Actor network built: ModuleList(\n",
      "  (0): Linear(in_features=33, out_features=256, bias=True)\n",
      "  (1): Linear(in_features=256, out_features=64, bias=True)\n",
      "  (2): Linear(in_features=64, out_features=4, bias=True)\n",
      ")\n",
      "Critic network built: ModuleList(\n",
      "  (0): Linear(in_features=33, out_features=256, bias=True)\n",
      "  (1): Linear(in_features=260, out_features=64, bias=True)\n",
      "  (2): Linear(in_features=64, out_features=1, bias=True)\n",
      ")\n",
      "Critic network built: ModuleList(\n",
      "  (0): Linear(in_features=33, out_features=256, bias=True)\n",
      "  (1): Linear(in_features=260, out_features=64, bias=True)\n",
      "  (2): Linear(in_features=64, out_features=1, bias=True)\n",
      ")\n"
     ]
    }
   ],
   "source": [
    "import random\n",
    "import torch\n",
    "import numpy as np\n",
    "from collections import deque\n",
    "import matplotlib.pyplot as plt\n",
    "import time\n",
    "%matplotlib inline\n",
    "\n",
    "from ddpg_agent import Agent\n",
    "\n",
    "agent = Agent(state_size, action_size, random_seed=0)"
   ]
  },
  {
   "cell_type": "code",
   "execution_count": 8,
   "metadata": {},
   "outputs": [],
   "source": [
    "def ddpg(n_episodes=1000, max_t=1000, print_every=100):\n",
    "    \"\"\"DDQN Algorithm.\n",
    "    \n",
    "    Params\n",
    "    ======\n",
    "        n_episodes (int): maximum number of training episodes\n",
    "        max_t (int): maximum number of timesteps per episode\n",
    "        print_every (int): frequency of printing information throughout iteration \"\"\"\n",
    "    \n",
    "    scores = []\n",
    "    scores_deque = deque(maxlen=print_every)\n",
    "    scores_store=0\n",
    "    start_training = time.time()\n",
    "    for i_episode in range(1, n_episodes+1):\n",
    "        env_info = env.reset(train_mode=True)[brain_name]\n",
    "        start_episode= time.time()\n",
    "        agent.noise.reset()\n",
    "        states = env_info.vector_observations                     # get the current states\n",
    "        scores_episode = np.zeros(num_agents)\n",
    "        \n",
    "        for t in range(max_t):\n",
    "            actions = agent.act(states)                           # select an actions\n",
    "            env_info = env.step(actions)[brain_name]              # send the actions to the environment\n",
    "            next_states = env_info.vector_observations            # get the next states\n",
    "            rewards = env_info.rewards                            # get the reward\n",
    "            #done = env_info.local_done[-1]                         # see if episode has finished\n",
    "            for (state, action, reward, next_state) in zip(states, actions, rewards, next_states):\n",
    "                agent.step(state, action, reward, next_state)   # take step with agent (including learning)\n",
    "            scores_episode += rewards                                       # update the score\n",
    "            states = next_states                                    # roll over the state to next time step\n",
    "            #if done:                                              # exit loop if episode finished\n",
    "            #   break\n",
    "        \n",
    "        scores_deque.append(scores_episode)                                # save most recent score\n",
    "        scores.append(scores_episode.tolist())                       # save most recent score\n",
    "        # Calculate the elapsed time\n",
    "        time_episode = time.time() - start_episode\n",
    "        time_elapsed = time.time() - start_training\n",
    "        time_episode_str = time.strftime('%Mm%Ss', time.gmtime(time_episode))\n",
    "        \n",
    "        print('\\rEpisode {}\\tAverage Score: {:.2f}\\ttime of Episode:{}'.format(i_episode, np.mean(scores_deque),time_episode_str ))\n",
    "        \n",
    "        if i_episode % print_every == 0:\n",
    "            # print('\\rEpisode {}\\tAverage Score: {:.2f}'.format(i_episode, np.mean(scores_deque)))\n",
    "            torch.save(agent.actor_local.state_dict(), 'checkpoint_actor_reacher_20.pth')\n",
    "            torch.save(agent.critic_local.state_dict(), 'checkpoint_critic_reacher_20.pth')\n",
    "            if (np.mean(scores_deque)-scores_store)<=3:\n",
    "                break\n",
    "            scores_store=np.mean(scores_deque)\n",
    "            \n",
    "        if np.mean(scores_deque)>=30.0:\n",
    "            time_elapsed_str = time.strftime('%Hh%Mm%Ss', time.gmtime(time_elapsed))\n",
    "            print('\\rEpisode {}\\tAverage Score: {:.2f}\\ttime of Episode:{}'.format(i_episode, np.mean(scores_deque),time_elapsed_str ))\n",
    "            torch.save(agent.actor_local.state_dict(), 'checkpoint_actor_reacher_20.pth')\n",
    "            torch.save(agent.critic_local.state_dict(), 'checkpoint_critic_reacher_20.pth')\n",
    "            break    \n",
    "            \n",
    "    return scores  "
   ]
  },
  {
   "cell_type": "code",
   "execution_count": 9,
   "metadata": {},
   "outputs": [
    {
     "name": "stdout",
     "output_type": "stream",
     "text": [
      "Episode 1\tAverage Score: 0.80\ttime of Episode:02m11s\n",
      "Episode 2\tAverage Score: 1.14\ttime of Episode:02m10s\n",
      "Episode 3\tAverage Score: 1.48\ttime of Episode:02m13s\n",
      "Episode 4\tAverage Score: 1.90\ttime of Episode:02m13s\n",
      "Episode 5\tAverage Score: 2.35\ttime of Episode:02m12s\n",
      "Episode 6\tAverage Score: 2.77\ttime of Episode:02m13s\n",
      "Episode 7\tAverage Score: 3.05\ttime of Episode:02m13s\n",
      "Episode 8\tAverage Score: 3.25\ttime of Episode:02m12s\n",
      "Episode 9\tAverage Score: 3.52\ttime of Episode:02m11s\n",
      "Episode 10\tAverage Score: 3.79\ttime of Episode:02m11s\n",
      "Episode 11\tAverage Score: 3.93\ttime of Episode:02m12s\n",
      "Episode 12\tAverage Score: 4.05\ttime of Episode:02m11s\n",
      "Episode 13\tAverage Score: 4.18\ttime of Episode:02m11s\n",
      "Episode 14\tAverage Score: 4.30\ttime of Episode:02m11s\n",
      "Episode 15\tAverage Score: 4.47\ttime of Episode:02m14s\n",
      "Episode 16\tAverage Score: 4.70\ttime of Episode:02m12s\n",
      "Episode 17\tAverage Score: 4.83\ttime of Episode:02m12s\n",
      "Episode 18\tAverage Score: 4.94\ttime of Episode:02m12s\n",
      "Episode 19\tAverage Score: 5.01\ttime of Episode:02m12s\n",
      "Episode 20\tAverage Score: 5.08\ttime of Episode:02m13s\n",
      "Episode 21\tAverage Score: 5.12\ttime of Episode:02m13s\n",
      "Episode 22\tAverage Score: 5.16\ttime of Episode:02m13s\n",
      "Episode 23\tAverage Score: 5.23\ttime of Episode:02m13s\n",
      "Episode 24\tAverage Score: 5.29\ttime of Episode:02m13s\n",
      "Episode 25\tAverage Score: 5.35\ttime of Episode:02m14s\n",
      "Episode 26\tAverage Score: 5.41\ttime of Episode:02m13s\n",
      "Episode 27\tAverage Score: 5.53\ttime of Episode:02m13s\n",
      "Episode 28\tAverage Score: 5.69\ttime of Episode:02m13s\n",
      "Episode 29\tAverage Score: 5.80\ttime of Episode:02m12s\n",
      "Episode 30\tAverage Score: 5.92\ttime of Episode:02m13s\n",
      "Episode 31\tAverage Score: 6.04\ttime of Episode:02m13s\n",
      "Episode 32\tAverage Score: 6.16\ttime of Episode:02m12s\n",
      "Episode 33\tAverage Score: 6.24\ttime of Episode:02m12s\n",
      "Episode 34\tAverage Score: 6.30\ttime of Episode:02m12s\n",
      "Episode 35\tAverage Score: 6.41\ttime of Episode:02m13s\n",
      "Episode 36\tAverage Score: 6.49\ttime of Episode:02m12s\n",
      "Episode 37\tAverage Score: 6.55\ttime of Episode:02m09s\n",
      "Episode 38\tAverage Score: 6.69\ttime of Episode:02m10s\n",
      "Episode 39\tAverage Score: 6.79\ttime of Episode:02m10s\n",
      "Episode 40\tAverage Score: 6.87\ttime of Episode:02m10s\n",
      "Episode 41\tAverage Score: 6.94\ttime of Episode:02m10s\n",
      "Episode 42\tAverage Score: 6.98\ttime of Episode:02m10s\n",
      "Episode 43\tAverage Score: 7.07\ttime of Episode:02m10s\n",
      "Episode 44\tAverage Score: 7.13\ttime of Episode:02m10s\n",
      "Episode 45\tAverage Score: 7.22\ttime of Episode:02m09s\n",
      "Episode 46\tAverage Score: 7.34\ttime of Episode:02m09s\n",
      "Episode 47\tAverage Score: 7.45\ttime of Episode:02m10s\n",
      "Episode 48\tAverage Score: 7.56\ttime of Episode:02m10s\n",
      "Episode 49\tAverage Score: 7.61\ttime of Episode:02m09s\n",
      "Episode 50\tAverage Score: 7.66\ttime of Episode:02m09s\n",
      "Episode 51\tAverage Score: 7.88\ttime of Episode:02m09s\n",
      "Episode 52\tAverage Score: 8.07\ttime of Episode:02m10s\n",
      "Episode 53\tAverage Score: 8.25\ttime of Episode:02m10s\n",
      "Episode 54\tAverage Score: 8.38\ttime of Episode:02m10s\n",
      "Episode 55\tAverage Score: 8.50\ttime of Episode:02m10s\n",
      "Episode 56\tAverage Score: 8.60\ttime of Episode:02m10s\n",
      "Episode 57\tAverage Score: 8.71\ttime of Episode:02m09s\n",
      "Episode 58\tAverage Score: 8.89\ttime of Episode:02m09s\n",
      "Episode 59\tAverage Score: 9.10\ttime of Episode:02m09s\n",
      "Episode 60\tAverage Score: 9.35\ttime of Episode:02m09s\n",
      "Episode 61\tAverage Score: 9.60\ttime of Episode:02m09s\n",
      "Episode 62\tAverage Score: 9.83\ttime of Episode:02m09s\n",
      "Episode 63\tAverage Score: 9.96\ttime of Episode:02m09s\n",
      "Episode 64\tAverage Score: 10.21\ttime of Episode:02m09s\n",
      "Episode 65\tAverage Score: 10.41\ttime of Episode:02m09s\n",
      "Episode 66\tAverage Score: 10.58\ttime of Episode:02m09s\n",
      "Episode 67\tAverage Score: 10.85\ttime of Episode:02m09s\n",
      "Episode 68\tAverage Score: 11.12\ttime of Episode:02m09s\n",
      "Episode 69\tAverage Score: 11.40\ttime of Episode:02m09s\n",
      "Episode 70\tAverage Score: 11.67\ttime of Episode:02m09s\n",
      "Episode 71\tAverage Score: 12.01\ttime of Episode:02m09s\n",
      "Episode 72\tAverage Score: 12.37\ttime of Episode:02m09s\n",
      "Episode 73\tAverage Score: 12.60\ttime of Episode:02m09s\n",
      "Episode 74\tAverage Score: 12.81\ttime of Episode:02m09s\n",
      "Episode 75\tAverage Score: 13.02\ttime of Episode:02m09s\n",
      "Episode 76\tAverage Score: 13.27\ttime of Episode:02m09s\n",
      "Episode 77\tAverage Score: 13.44\ttime of Episode:02m09s\n",
      "Episode 78\tAverage Score: 13.67\ttime of Episode:02m09s\n",
      "Episode 79\tAverage Score: 13.85\ttime of Episode:02m09s\n",
      "Episode 80\tAverage Score: 14.12\ttime of Episode:02m09s\n",
      "Episode 81\tAverage Score: 14.45\ttime of Episode:02m09s\n",
      "Episode 82\tAverage Score: 14.68\ttime of Episode:02m09s\n",
      "Episode 83\tAverage Score: 14.97\ttime of Episode:02m09s\n",
      "Episode 84\tAverage Score: 15.17\ttime of Episode:02m09s\n",
      "Episode 85\tAverage Score: 15.36\ttime of Episode:02m09s\n",
      "Episode 86\tAverage Score: 15.55\ttime of Episode:02m09s\n",
      "Episode 87\tAverage Score: 15.64\ttime of Episode:02m09s\n",
      "Episode 88\tAverage Score: 15.76\ttime of Episode:02m09s\n",
      "Episode 89\tAverage Score: 15.93\ttime of Episode:02m09s\n",
      "Episode 90\tAverage Score: 16.17\ttime of Episode:02m09s\n",
      "Episode 91\tAverage Score: 16.33\ttime of Episode:02m09s\n",
      "Episode 92\tAverage Score: 16.53\ttime of Episode:02m09s\n",
      "Episode 93\tAverage Score: 16.65\ttime of Episode:02m10s\n",
      "Episode 94\tAverage Score: 16.89\ttime of Episode:02m10s\n",
      "Episode 95\tAverage Score: 17.03\ttime of Episode:02m10s\n",
      "Episode 96\tAverage Score: 17.14\ttime of Episode:02m10s\n",
      "Episode 97\tAverage Score: 17.35\ttime of Episode:02m10s\n",
      "Episode 98\tAverage Score: 17.58\ttime of Episode:02m10s\n",
      "Episode 99\tAverage Score: 17.78\ttime of Episode:02m10s\n",
      "Episode 100\tAverage Score: 17.98\ttime of Episode:02m10s\n"
     ]
    }
   ],
   "source": [
    "scores =ddpg()"
   ]
  },
  {
   "cell_type": "code",
   "execution_count": 12,
   "metadata": {},
   "outputs": [
    {
     "data": {
      "image/png": "[encoded data removed]",
      "text/plain": [
       "<Figure size 1080x504 with 1 Axes>"
      ]
     },
     "metadata": {
      "needs_background": "light"
     },
     "output_type": "display_data"
    }
   ],
   "source": [
    "import pandas as pd\n",
    "# plot the scores\n",
    "fig = plt.figure(figsize=[15, 7])\n",
    "ax = fig.add_subplot(111)\n",
    "\n",
    "#scores_mean = pd.Series(scores).rolling(100).mean()\n",
    "scores_mean = np.mean(scores, axis=1)\n",
    "plt.plot(np.arange(len(scores)), scores_mean)\n",
    "plt.plot(scores_mean, \"-\", c=\"magenta\", linewidth=3)\n",
    "plt.axhline(30, c=\"green\", linewidth=3)\n",
    "plt.ylabel('Score')\n",
    "plt.xlabel('Episode')\n",
    "plt.grid(which=\"major\")\n",
    "plt.legend([\"Score\", \"Mean of last 100 Episods\", \"Project threshold\"])\n",
    "plt.show()"
   ]
  },
  {
   "cell_type": "markdown",
   "metadata": {},
   "source": [
    "### 5. Watch the smart agent"
   ]
  },
  {
   "cell_type": "code",
   "execution_count": 13,
   "metadata": {},
   "outputs": [
    {
     "name": "stdout",
     "output_type": "stream",
     "text": [
      "DDPG Agent hyperparameters:\n",
      "\tbatch size: \t\t     128\n",
      "\tbuffer size: \t\t  100000\n",
      "\tdiscount / gamma: \t   0.990\n",
      "\tactor learning rate: \t   0.001\n",
      "\tcritic learning rate: \t   0.001\n",
      "\tsoft update / tau: \t   0.001\n",
      "\tnoise decay rate: \t   0.999\n",
      "\n",
      "Actor network built: ModuleList(\n",
      "  (0): Linear(in_features=33, out_features=256, bias=True)\n",
      "  (1): Linear(in_features=256, out_features=64, bias=True)\n",
      "  (2): Linear(in_features=64, out_features=4, bias=True)\n",
      ")\n",
      "Actor network built: ModuleList(\n",
      "  (0): Linear(in_features=33, out_features=256, bias=True)\n",
      "  (1): Linear(in_features=256, out_features=64, bias=True)\n",
      "  (2): Linear(in_features=64, out_features=4, bias=True)\n",
      ")\n",
      "Critic network built: ModuleList(\n",
      "  (0): Linear(in_features=33, out_features=256, bias=True)\n",
      "  (1): Linear(in_features=260, out_features=64, bias=True)\n",
      "  (2): Linear(in_features=64, out_features=1, bias=True)\n",
      ")\n",
      "Critic network built: ModuleList(\n",
      "  (0): Linear(in_features=33, out_features=256, bias=True)\n",
      "  (1): Linear(in_features=260, out_features=64, bias=True)\n",
      "  (2): Linear(in_features=64, out_features=1, bias=True)\n",
      ")\n"
     ]
    }
   ],
   "source": [
    "#agent = ddpg_agent.Agent(state_size, action_size, random_seed = 100)\n",
    "agent = Agent(state_size, action_size, random_seed=10)\n",
    "\n",
    "agent.actor_local.load_state_dict(torch.load('checkpoint_actor_reacher_20.pth'))\n",
    "agent.critic_local.load_state_dict(torch.load('checkpoint_critic_reacher_20.pth'))\n",
    "\n",
    "env_info = env.reset(train_mode=False)[brain_name] # reset the environment\n",
    "state = env_info.vector_observations            # get the current state\n",
    "for j in range(1000):\n",
    "    actions = agent.act(states)                           # select an actions\n",
    "    env_info = env.step(actions)[brain_name]              # send the actions to the environment\n",
    "    next_states = env_info.vector_observations            # get the next states\n",
    "                                                       # get the reward\n",
    "    done = env_info.local_done[-1]                     # see if episode has finished\n",
    "    if done:                                           # exit loop if episode finished\n",
    "        break"
   ]
  },
  {
   "cell_type": "code",
   "execution_count": 14,
   "metadata": {},
   "outputs": [],
   "source": [
    "env.close()"
   ]
  },
  {
   "cell_type": "markdown",
   "metadata": {},
   "source": [
    "### 6. Improvements\n",
    "As shown in the graph above the agent almost reached the threshold 100 episodes earlier and stuck on this level. By tuning the hyperparameters manually (playing arround) or automatically (as shown in the deep learing ND with sage maker) the threshold should be reachable much earlier. \n",
    "Instead of traing just one agent the second posibility of training 20 agents at the same time might lead to less episodes. \n",
    "Also the size of the neural network could be adapted. As there are only 33 input states and 4 (actor)/1 (critc) outputs the number of nodes might be reduced which would lead to a less time consuming calculation. "
   ]
  },
  {
   "cell_type": "code",
   "execution_count": null,
   "metadata": {},
   "outputs": [],
   "source": []
  }
 ],
 "metadata": {
  "kernelspec": {
   "display_name": "drlnd",
   "language": "python",
   "name": "drlnd"
  },
  "language_info": {
   "codemirror_mode": {
    "name": "ipython",
    "version": 3
   },
   "file_extension": ".py",
   "mimetype": "text/x-python",
   "name": "python",
   "nbconvert_exporter": "python",
   "pygments_lexer": "ipython3",
   "version": "3.6.10"
  }
 },
 "nbformat": 4,
 "nbformat_minor": 2
}
